{
 "cells": [
  {
   "cell_type": "code",
   "execution_count": 97,
   "metadata": {},
   "outputs": [],
   "source": [
    "import os\n",
    "import numpy as np\n",
    "import pandas as pd\n",
    "import matplotlib.pyplot as plt\n",
    "from datetime import datetime as dt\n",
    "import yfinance as yf\n",
    "import margo_loader\n",
    "import pecnet_model as pcm\n",
    "import finance_db as fdb\n"
   ]
  },
  {
   "cell_type": "code",
   "execution_count": 98,
   "metadata": {},
   "outputs": [],
   "source": [
    "all_data=pd.DataFrame()\n",
    "ticker_list=[\"AAPL\",\"MSFT\"]\n",
    "\n",
    "def get_data(tickerlist):\n",
    "    return yf.download(tickerlist,start = \"2000-01-01\",end=\"2023-08-21\")[[\"Adj Close\"]] #to include the end day, add 1 day"
   ]
  },
  {
   "cell_type": "code",
   "execution_count": 99,
   "metadata": {},
   "outputs": [],
   "source": [
    "def get_adjcloseprice_and_plot():\n",
    "    \n",
    "    df_stock_prices=get_data(ticker_list)[\"Adj Close\"]\n",
    "    print(df_stock_prices)\n",
    "    \n",
    "    plt.figure(figsize=(15,5))\n",
    "    plt.ylabel('ClosePrice ($)', fontsize=16)\n",
    "    plt.title(\"StockPrices\", fontsize=16)\n",
    "\n",
    "    for ticker in ticker_list:\n",
    "        plt.plot(df_stock_prices.index,df_stock_prices[ticker],label=ticker)\n",
    "\n",
    "    plt.legend()\n",
    "    plt.show()\n",
    "\n",
    "#get_adjcloseprice_and_plot()"
   ]
  },
  {
   "cell_type": "code",
   "execution_count": 100,
   "metadata": {},
   "outputs": [],
   "source": [
    "def get_predictions(stock_prices):\n",
    "\n",
    "    prediction_dict={}\n",
    "\n",
    "\n",
    "    for ticker in ticker_list:\n",
    "        if stock_prices.empty:\n",
    "            continue\n",
    "        \n",
    "        input_data=np.array(stock_prices[\"Adj Close\"][ticker])\n",
    "        input_dates=np.array(stock_prices.index.astype(str, copy = False))\n",
    "        \n",
    "\n",
    "        nanmask=np.isnan(input_data)\n",
    "\n",
    "        input_data=input_data[~nanmask]\n",
    "        input_dates=input_dates[~nanmask]\n",
    "\n",
    "        predictions = pcm.train_and_test(input_data)\n",
    "        test_index=len(input_data)+1-len(predictions) #last prediction value is tomorrow's prediction\n",
    "        real_values=input_data[test_index:]\n",
    "        error_values=predictions[:-1]-real_values\n",
    "\n",
    "        predictions = [ round(elem, 3) for elem in predictions ]\n",
    "        real_values = [ round(elem, 3) for elem in real_values ]\n",
    "        error_values = [ round(elem, 3) for elem in error_values ]\n",
    "        date_values=input_dates[test_index:]\n",
    "\n",
    "        #for the tomorrow prediction\n",
    "\n",
    "        real_values.append(None)\n",
    "        error_values.append(None)\n",
    "        #prediction is already ok\n",
    "        #add 1 more date to date_values\n",
    "        tomorrow=str(pd.to_datetime(input_dates[-1])+pd.offsets.BDay(1))\n",
    "        date_values=np.append(date_values,tomorrow)\n",
    "\n",
    "        assert len(date_values) == len(real_values)\n",
    "        \n",
    "        prediction_dict[ticker]=pd.DataFrame({\"date\":date_values,\"adj_close_price\":real_values,\"predicted_price\":predictions,\"error\":error_values})\n",
    "    \n",
    "    return prediction_dict\n",
    "\n"
   ]
  },
  {
   "cell_type": "code",
   "execution_count": 101,
   "metadata": {},
   "outputs": [
    {
     "name": "stdout",
     "output_type": "stream",
     "text": [
      "[*********************100%%**********************]  2 of 2 completed\n"
     ]
    },
    {
     "name": "stderr",
     "output_type": "stream",
     "text": [
      "c:\\ProgramData\\Anaconda3\\envs\\pecnetnasdaq\\Lib\\site-packages\\keras\\src\\optimizers\\legacy\\gradient_descent.py:114: UserWarning: The `lr` argument is deprecated, use `learning_rate` instead.\n",
      "  super().__init__(name, **kwargs)\n"
     ]
    },
    {
     "name": "stdout",
     "output_type": "stream",
     "text": [
      "186/186 [==============================] - 0s 1ms/step\n",
      "186/186 [==============================] - 0s 892us/step\n",
      "186/186 [==============================] - 0s 945us/step\n",
      "186/186 [==============================] - 0s 968us/step\n",
      "1/1 [==============================] - 0s 20ms/step\n",
      "1/1 [==============================] - 0s 21ms/step\n",
      "1/1 [==============================] - 0s 21ms/step\n",
      "1/1 [==============================] - 0s 22ms/step\n"
     ]
    },
    {
     "name": "stderr",
     "output_type": "stream",
     "text": [
      "c:\\ProgramData\\Anaconda3\\envs\\pecnetnasdaq\\Lib\\site-packages\\keras\\src\\optimizers\\legacy\\gradient_descent.py:114: UserWarning: The `lr` argument is deprecated, use `learning_rate` instead.\n",
      "  super().__init__(name, **kwargs)\n"
     ]
    },
    {
     "name": "stdout",
     "output_type": "stream",
     "text": [
      "186/186 [==============================] - 0s 1ms/step\n",
      "186/186 [==============================] - 0s 1ms/step\n",
      "186/186 [==============================] - 0s 898us/step\n",
      "186/186 [==============================] - 0s 856us/step\n",
      "1/1 [==============================] - 0s 20ms/step\n",
      "1/1 [==============================] - 0s 28ms/step\n",
      "1/1 [==============================] - 0s 21ms/step\n",
      "1/1 [==============================] - 0s 24ms/step\n"
     ]
    }
   ],
   "source": [
    "def get_all_data_columns():\n",
    "    data = {}\n",
    "    for ticker in ticker_list:\n",
    "        predictions = fdb.get_predictions_from_db(ticker)\n",
    "        data[ticker] = pd.DataFrame(predictions, columns=['id', 'date', f'adj_close_price', f'predicted_price', f'error']).set_index('date').drop('id',axis=1)\n",
    "        \n",
    "    return data\n",
    "\n",
    "\n",
    "def get_predictions_and_save():\n",
    "    global all_data\n",
    "    \n",
    "    stock_prices=get_data(ticker_list)\n",
    "    result_dict=get_predictions(stock_prices)\n",
    "    \n",
    "    for ticker in result_dict:\n",
    "        result=fdb.add_predictions_to_db(ticker,result_dict[ticker])\n",
    "\n",
    "        yesterday=str(pd.to_datetime(result_dict[ticker][\"date\"].iloc[-1])-pd.offsets.BDay(1))#last date is tomorrow so yesterday is today in fact.\n",
    "        \n",
    "        if fdb.is_date_available(yesterday,ticker):\n",
    "            gt_yesterday=round(stock_prices[\"Adj Close\"][ticker].iloc[-1],3)\n",
    "            err_yesterday=round(fdb.get_predictions_from_db(ticker,dt.strptime(yesterday,\"%Y-%m-%d %H:%M:%S\").strftime(\"%Y-%m-%d\"))[0][3]-gt_yesterday,3) # 0 is first elem in the tuple list.3 is the index of the prediction column\n",
    "            \n",
    "            fdb.update_previous_ground_truth(yesterday,ticker,gt_yesterday,err_yesterday)\n",
    "    \n",
    "    all_data = get_all_data_columns()\n",
    "\n",
    "\n",
    "def get_prediction_df():\n",
    "    table = pd.DataFrame(columns=['date', 'adj_close_price', 'predicted_price', 'action'])\n",
    "    for ticker in ticker_list:\n",
    "        df = all_data[ticker].iloc[-2:][['adj_close_price', 'predicted_price']]\n",
    "        action = 'SELL' if df.iloc[0].adj_close_price > df.iloc[1].predicted_price else 'BUY'\n",
    "        table.loc[ticker] = df.iloc[0].name, df.iloc[0].adj_close_price, df.iloc[1].predicted_price, action\n",
    "\n",
    "    return table\n",
    "\n",
    "\n",
    "all_data = get_all_data_columns()\n",
    "#get_predictions_and_save()"
   ]
  }
 ],
 "metadata": {
  "kernelspec": {
   "display_name": "Python 3 (ipykernel)",
   "language": "python",
   "name": "python3"
  },
  "language_info": {
   "codemirror_mode": {
    "name": "ipython",
    "version": 3
   },
   "file_extension": ".py",
   "mimetype": "text/x-python",
   "name": "python",
   "nbconvert_exporter": "python",
   "pygments_lexer": "ipython3",
   "version": "3.11.4"
  },
  "vscode": {
   "interpreter": {
    "hash": "4c5dcfd21eb0a78f90305e0fea3eb6f09987102a804f4bba64688b0b6743d9b7"
   }
  }
 },
 "nbformat": 4,
 "nbformat_minor": 2
}
